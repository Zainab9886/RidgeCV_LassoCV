{
 "cells": [
  {
   "cell_type": "code",
   "execution_count": 1,
   "id": "329a1c5c-09ab-4702-9882-4a9c9b618281",
   "metadata": {},
   "outputs": [],
   "source": [
    "# libraries\n",
    "import pandas as pd\n",
    "import numpy as np\n",
    "import seaborn as sns\n",
    "import matplotlib.pyplot as plt\n",
    "from sklearn.model_selection import train_test_split\n",
    "from sklearn.linear_model import LinearRegression, Ridge, Lasso, ElasticNet\n",
    "from sklearn.preprocessing import StandardScaler\n",
    "from sklearn.datasets import fetch_california_housing\n",
    "import sklearn.cross_decomposition as cv\n",
    "import sklearn"
   ]
  },
  {
   "cell_type": "code",
   "execution_count": 2,
   "id": "6bca4dc4-8791-4704-b49c-481688912f9e",
   "metadata": {},
   "outputs": [],
   "source": [
    "dataset = fetch_california_housing()\n",
    "X = dataset['data']\n",
    "y = dataset['target']\n",
    "X_train, X_test, y_train, y_test = train_test_split(X, y, test_size=0.20, random_state=15)"
   ]
  },
  {
   "cell_type": "code",
   "execution_count": 3,
   "id": "f7feb286-9dd0-4cd3-87bb-22d1889f6f66",
   "metadata": {},
   "outputs": [
    {
     "data": {
      "text/plain": [
       "{'data': array([[   8.3252    ,   41.        ,    6.98412698, ...,    2.55555556,\n",
       "           37.88      , -122.23      ],\n",
       "        [   8.3014    ,   21.        ,    6.23813708, ...,    2.10984183,\n",
       "           37.86      , -122.22      ],\n",
       "        [   7.2574    ,   52.        ,    8.28813559, ...,    2.80225989,\n",
       "           37.85      , -122.24      ],\n",
       "        ...,\n",
       "        [   1.7       ,   17.        ,    5.20554273, ...,    2.3256351 ,\n",
       "           39.43      , -121.22      ],\n",
       "        [   1.8672    ,   18.        ,    5.32951289, ...,    2.12320917,\n",
       "           39.43      , -121.32      ],\n",
       "        [   2.3886    ,   16.        ,    5.25471698, ...,    2.61698113,\n",
       "           39.37      , -121.24      ]]),\n",
       " 'target': array([4.526, 3.585, 3.521, ..., 0.923, 0.847, 0.894]),\n",
       " 'frame': None,\n",
       " 'target_names': ['MedHouseVal'],\n",
       " 'feature_names': ['MedInc',\n",
       "  'HouseAge',\n",
       "  'AveRooms',\n",
       "  'AveBedrms',\n",
       "  'Population',\n",
       "  'AveOccup',\n",
       "  'Latitude',\n",
       "  'Longitude'],\n",
       " 'DESCR': '.. _california_housing_dataset:\\n\\nCalifornia Housing dataset\\n--------------------------\\n\\n**Data Set Characteristics:**\\n\\n    :Number of Instances: 20640\\n\\n    :Number of Attributes: 8 numeric, predictive attributes and the target\\n\\n    :Attribute Information:\\n        - MedInc        median income in block group\\n        - HouseAge      median house age in block group\\n        - AveRooms      average number of rooms per household\\n        - AveBedrms     average number of bedrooms per household\\n        - Population    block group population\\n        - AveOccup      average number of household members\\n        - Latitude      block group latitude\\n        - Longitude     block group longitude\\n\\n    :Missing Attribute Values: None\\n\\nThis dataset was obtained from the StatLib repository.\\nhttps://www.dcc.fc.up.pt/~ltorgo/Regression/cal_housing.html\\n\\nThe target variable is the median house value for California districts,\\nexpressed in hundreds of thousands of dollars ($100,000).\\n\\nThis dataset was derived from the 1990 U.S. census, using one row per census\\nblock group. A block group is the smallest geographical unit for which the U.S.\\nCensus Bureau publishes sample data (a block group typically has a population\\nof 600 to 3,000 people).\\n\\nA household is a group of people residing within a home. Since the average\\nnumber of rooms and bedrooms in this dataset are provided per household, these\\ncolumns may take surprisingly large values for block groups with few households\\nand many empty houses, such as vacation resorts.\\n\\nIt can be downloaded/loaded using the\\n:func:`sklearn.datasets.fetch_california_housing` function.\\n\\n.. topic:: References\\n\\n    - Pace, R. Kelley and Ronald Barry, Sparse Spatial Autoregressions,\\n      Statistics and Probability Letters, 33 (1997) 291-297\\n'}"
      ]
     },
     "execution_count": 3,
     "metadata": {},
     "output_type": "execute_result"
    }
   ],
   "source": [
    "dataset"
   ]
  },
  {
   "cell_type": "code",
   "execution_count": 4,
   "id": "cddee75c-cd2f-4dc3-b590-32f48a2f6507",
   "metadata": {},
   "outputs": [],
   "source": [
    "LR = LinearRegression()\n",
    "LR.fit(X_train,y_train)\n",
    "train_score_LR= LR.score(X_train,y_train)"
   ]
  },
  {
   "cell_type": "code",
   "execution_count": 5,
   "id": "2c017cea-0223-42d5-b90c-3ea64c616604",
   "metadata": {},
   "outputs": [
    {
     "name": "stdout",
     "output_type": "stream",
     "text": [
      "\n",
      ".....................Lasso Model.................................\n",
      "\n",
      "The train score for the lasso model is0.5488267992849574\n"
     ]
    }
   ],
   "source": [
    "#Lasso regression model\n",
    "print(\"\\n.....................Lasso Model.................................\\n\")\n",
    "lasso = Lasso(alpha = 0.1)\n",
    "lasso.fit(X_train,y_train)\n",
    "train_score_ls =lasso.score(X_train,y_train)\n",
    "print(\"The train score for the lasso model is{}\".format(train_score_ls))"
   ]
  },
  {
   "cell_type": "code",
   "execution_count": 6,
   "id": "b537bbbe-d7be-47b9-b779-3fc0cae1e79d",
   "metadata": {},
   "outputs": [
    {
     "name": "stdout",
     "output_type": "stream",
     "text": [
      "\n",
      "Ridge Model................................................\n",
      "The train score for the ridge model is0.6090156804624769\n"
     ]
    }
   ],
   "source": [
    "#Ridge Regression Model\n",
    "print(\"\\nRidge Model................................................\")\n",
    "ridgeReg = Ridge(alpha=0.1)\n",
    "ridgeReg.fit(X_train,y_train)\n",
    "train_score_ridge =ridgeReg.score(X_train,y_train)\n",
    "print(\"The train score for the ridge model is{}\".format(train_score_ridge))"
   ]
  },
  {
   "cell_type": "code",
   "execution_count": 7,
   "id": "bd64b501-47cf-4f2c-b9ce-d1626a06caf9",
   "metadata": {},
   "outputs": [],
   "source": [
    "enet_model = ElasticNet(alpha = 0.1).fit(X_train,y_train)\n",
    "train_enet_score= enet_model.score(X_train,y_train)"
   ]
  },
  {
   "cell_type": "code",
   "execution_count": 8,
   "id": "8091ee7a-9d72-44bc-8981-7e07d3fdaa48",
   "metadata": {},
   "outputs": [],
   "source": [
    "# Testing a model on testing data set\n",
    "LR_test_score = LR.score(X_test,y_test)\n",
    "lasso_test_score =lasso.score(X_test,y_test)\n",
    "Ridge_test_score =ridgeReg.score(X_test,y_test)\n",
    "enet_test_score = enet_model.score(X_test,y_test)\n",
    "\n",
    "result = pd.DataFrame({'LR score':[train_score_LR,LR_test_score],\n",
    "                      'Lasso score':[train_score_ls,lasso_test_score],\n",
    "                      'Ridge score':[train_score_ridge,Ridge_test_score],\n",
    "                      'Enet score':[train_enet_score,enet_test_score]},\n",
    "                       index = ['Train score','Test score'])"
   ]
  },
  {
   "cell_type": "code",
   "execution_count": 9,
   "id": "6d625ab5-57ad-4d32-995b-2d1b44bf0fb1",
   "metadata": {},
   "outputs": [
    {
     "name": "stdout",
     "output_type": "stream",
     "text": [
      "             LR score  Lasso score  Ridge score  Enet score\n",
      "Train score  0.609016     0.548827     0.609016    0.579716\n",
      "Test score   0.594579     0.523638     0.594578    0.557387\n"
     ]
    }
   ],
   "source": [
    "print(result)"
   ]
  },
  {
   "cell_type": "code",
   "execution_count": 10,
   "id": "ab3bd926-fc68-446d-b821-e521d2a656d9",
   "metadata": {},
   "outputs": [
    {
     "data": {
      "image/png": "[encoded data removed]",
      "text/plain": [
       "<Figure size 600x600 with 1 Axes>"
      ]
     },
     "metadata": {},
     "output_type": "display_data"
    }
   ],
   "source": [
    "#Lest plot the coefficient for both the linear and ridge models.\n",
    "plt.figure(figsize = (6,6))\n",
    "plt.plot(dataset.feature_names,ridgeReg.coef_,alpha=1,linestyle='none',\n",
    "         marker='*',markersize=5,color='red',label=r'Ridge; $\\alpha = 0.1$',zorder=7)\n",
    "\n",
    "plt.plot(dataset.feature_names,LR.coef_,alpha=0.6,linestyle='none',\n",
    "         marker='o',markersize=7,color='green',label='Linear Regression')\n",
    "\n",
    "plt.plot(dataset.feature_names,lasso.coef_,alpha=0.8,linestyle='none',\n",
    "          marker='x',markersize=9,color='blue',label='Lasso Regression')\n",
    "\n",
    "\n",
    "plt.plot(dataset.feature_names, enet_model.coef_,alpha=0.9,linestyle='none',\n",
    "          marker='d',markersize=10,color='orange',label='ElasticNet Regression')\n",
    "\n",
    "plt.xticks(rotation = 45)\n",
    "plt.title('Comparing the coefficient values of LR, Lasso, Ridge, Enet models')\n",
    "plt.legend()\n",
    "plt.show()"
   ]
  },
  {
   "cell_type": "code",
   "execution_count": 11,
   "id": "073db99b-b653-4bd0-be6f-170e08453a42",
   "metadata": {},
   "outputs": [],
   "source": [
    "from sklearn.linear_model import LassoCV,RidgeCV,ElasticNetCV"
   ]
  },
  {
   "cell_type": "code",
   "execution_count": 12,
   "id": "0644677c-7842-4902-a82c-29cf69654fde",
   "metadata": {},
   "outputs": [
    {
     "name": "stdout",
     "output_type": "stream",
     "text": [
      "training score:0.6088668691740275\n",
      "0.002\n"
     ]
    }
   ],
   "source": [
    "#Using the linear CV model\n",
    "from sklearn.linear_model import LassoCV,RidgeCV,ElasticNetCV\n",
    "#lasso Cross validation\n",
    "lasso_cv=LassoCV(alphas=[0.0001,0.0002,0.0009,0.0001,0.002,0.0003,0.01,0.1,1,10],\n",
    "                  random_state=10).fit(X_train,y_train)\n",
    "\n",
    "#score\n",
    "print(f'training score:{lasso_cv.score(X_train,y_train)}')\n",
    "print(lasso_cv.alpha_)"
   ]
  },
  {
   "cell_type": "code",
   "execution_count": 13,
   "id": "4533e7cc-4a0c-4925-9a96-dfc58638edc8",
   "metadata": {},
   "outputs": [
    {
     "name": "stdout",
     "output_type": "stream",
     "text": [
      "The train score for elasticnetCV model is 0.6088376784780601\n"
     ]
    },
    {
     "data": {
      "text/plain": [
       "0.003"
      ]
     },
     "execution_count": 13,
     "metadata": {},
     "output_type": "execute_result"
    }
   ],
   "source": [
    "#Using th#Using the linear CV model Ridge cross validation\n",
    "from sklearn.linear_model import ElasticNetCV\n",
    "\n",
    "#ElasticNet Cross validation\n",
    "ElasticNet_cv = ElasticNetCV(alphas = [0.001,0.002,0.003,0.025,0.035,0.01,0.02,0.1,0.2,1.1,1.10]).fit(X_train,y_train)\n",
    "\n",
    "#score\n",
    "print(\"The train score for elasticnetCV model is {}\".format(ElasticNet_cv.score(X_train,y_train)))\n",
    "ElasticNet_cv.alpha_"
   ]
  },
  {
   "cell_type": "code",
   "execution_count": 14,
   "id": "77842249-7dd6-428d-98de-64b5303d67bd",
   "metadata": {},
   "outputs": [
    {
     "data": {
      "text/plain": [
       "1.3862943611198906"
      ]
     },
     "execution_count": 14,
     "metadata": {},
     "output_type": "execute_result"
    }
   ],
   "source": [
    "np.log(4)"
   ]
  },
  {
   "cell_type": "code",
   "execution_count": 16,
   "id": "0ba57203-5384-4eba-a989-8261134ffc7c",
   "metadata": {},
   "outputs": [
    {
     "name": "stdout",
     "output_type": "stream",
     "text": [
      "[0.0001     0.00021544 0.00046416 0.001      0.00215443 0.00464159\n",
      " 0.01       0.02154435 0.04641589 0.1       ]\n"
     ]
    }
   ],
   "source": [
    "alpha = np.logspace(-4,-1,10)\n",
    "(np.empty_like(alpha))\n",
    "print(alpha)"
   ]
  },
  {
   "cell_type": "code",
   "execution_count": 19,
   "id": "c528c04b-7ac7-4268-8c81-4390c15806d9",
   "metadata": {},
   "outputs": [
    {
     "name": "stdout",
     "output_type": "stream",
     "text": [
      "[0.59454473 0.59450471 0.59441549 0.59420946 0.59370145 0.59230927\n",
      " 0.58792785 0.57907547 0.5666033  0.52363775]\n"
     ]
    }
   ],
   "source": [
    "alphas = np.logspace(-4, -1, 10)\n",
    "scores = np.empty_like(alphas)\n",
    "for i,a in enumerate(alphas):\n",
    "    lasso = Lasso()\n",
    "    lasso.set_params(alpha=a)\n",
    "    lasso.fit(X_train, y_train)\n",
    "    scores[i] = lasso.score(X_test,y_test)\n",
    "print(scores)"
   ]
  },
  {
   "cell_type": "code",
   "execution_count": 22,
   "id": "49fee8a4-1a2d-442b-8ed2-5aaa2990a0fe",
   "metadata": {},
   "outputs": [
    {
     "name": "stdout",
     "output_type": "stream",
     "text": [
      "0.03221092661065104\n"
     ]
    },
    {
     "data": {
      "image/png": "[encoded data removed]",
      "text/plain": [
       "<Figure size 640x480 with 1 Axes>"
      ]
     },
     "metadata": {},
     "output_type": "display_data"
    }
   ],
   "source": [
    "lassocv = LassoCV(random_state=0)\n",
    "lassocv.fit(X,y,)\n",
    "lassocv_score = lassocv.score(X,y)\n",
    "lassocv_alpha = lassocv.alpha_\n",
    "print(lassocv_alpha)\n",
    "plt.plot(alphas,scores,'-ko')\n",
    "plt.axhline(lassocv_score, color='b', ls='--')\n",
    "plt.axvline(lassocv_alpha, color='b', ls='--')\n",
    "plt.xlabel(r'$\\alpha$')\n",
    "plt.ylabel('Score')\n",
    "plt.xscale('log')\n",
    "sns.despine(offset=15)"
   ]
  },
  {
   "cell_type": "code",
   "execution_count": null,
   "id": "95fdcb67-058b-46b6-bf80-b75dd21a9c7e",
   "metadata": {},
   "outputs": [],
   "source": [
    "#elastic net regressor"
   ]
  },
  {
   "cell_type": "code",
   "execution_count": 24,
   "id": "fd6521e1-1238-4a1a-b903-86b4101a5891",
   "metadata": {},
   "outputs": [
    {
     "name": "stdout",
     "output_type": "stream",
     "text": [
      "{'fit_time': array([0.12013578, 0.11714268, 0.09527636, 0.09427905, 0.06903338]), 'score_time': array([0.0009985 , 0.00199509, 0.00199533, 0.00199437, 0.00143337]), 'estimator': [Pipeline(steps=[('standardscaler', StandardScaler()),\n",
      "                ('ridgecv',\n",
      "                 RidgeCV(alphas=array([1.00000000e-03, 1.37382380e-03, 1.88739182e-03, 2.59294380e-03,\n",
      "       3.56224789e-03, 4.89390092e-03, 6.72335754e-03, 9.23670857e-03,\n",
      "       1.26896100e-02, 1.74332882e-02, 2.39502662e-02, 3.29034456e-02,\n",
      "       4.52035366e-02, 6.21016942e-02, 8.53167852e-02, 1.17210230e-01,\n",
      "       1.61026203e-01, 2.21221629e-01, 3.03919538e-01, 4.17531894e-01,\n",
      "       5.73615251e-01, 7.88046282e-01, 1.08263673e+00, 1.48735211e+00,\n",
      "       2.04335972e+00, 2.80721620e+00, 3.85662042e+00, 5.29831691e+00,\n",
      "       7.27895384e+00, 1.00000000e+01])))]), Pipeline(steps=[('standardscaler', StandardScaler()),\n",
      "                ('ridgecv',\n",
      "                 RidgeCV(alphas=array([1.00000000e-03, 1.37382380e-03, 1.88739182e-03, 2.59294380e-03,\n",
      "       3.56224789e-03, 4.89390092e-03, 6.72335754e-03, 9.23670857e-03,\n",
      "       1.26896100e-02, 1.74332882e-02, 2.39502662e-02, 3.29034456e-02,\n",
      "       4.52035366e-02, 6.21016942e-02, 8.53167852e-02, 1.17210230e-01,\n",
      "       1.61026203e-01, 2.21221629e-01, 3.03919538e-01, 4.17531894e-01,\n",
      "       5.73615251e-01, 7.88046282e-01, 1.08263673e+00, 1.48735211e+00,\n",
      "       2.04335972e+00, 2.80721620e+00, 3.85662042e+00, 5.29831691e+00,\n",
      "       7.27895384e+00, 1.00000000e+01])))]), Pipeline(steps=[('standardscaler', StandardScaler()),\n",
      "                ('ridgecv',\n",
      "                 RidgeCV(alphas=array([1.00000000e-03, 1.37382380e-03, 1.88739182e-03, 2.59294380e-03,\n",
      "       3.56224789e-03, 4.89390092e-03, 6.72335754e-03, 9.23670857e-03,\n",
      "       1.26896100e-02, 1.74332882e-02, 2.39502662e-02, 3.29034456e-02,\n",
      "       4.52035366e-02, 6.21016942e-02, 8.53167852e-02, 1.17210230e-01,\n",
      "       1.61026203e-01, 2.21221629e-01, 3.03919538e-01, 4.17531894e-01,\n",
      "       5.73615251e-01, 7.88046282e-01, 1.08263673e+00, 1.48735211e+00,\n",
      "       2.04335972e+00, 2.80721620e+00, 3.85662042e+00, 5.29831691e+00,\n",
      "       7.27895384e+00, 1.00000000e+01])))]), Pipeline(steps=[('standardscaler', StandardScaler()),\n",
      "                ('ridgecv',\n",
      "                 RidgeCV(alphas=array([1.00000000e-03, 1.37382380e-03, 1.88739182e-03, 2.59294380e-03,\n",
      "       3.56224789e-03, 4.89390092e-03, 6.72335754e-03, 9.23670857e-03,\n",
      "       1.26896100e-02, 1.74332882e-02, 2.39502662e-02, 3.29034456e-02,\n",
      "       4.52035366e-02, 6.21016942e-02, 8.53167852e-02, 1.17210230e-01,\n",
      "       1.61026203e-01, 2.21221629e-01, 3.03919538e-01, 4.17531894e-01,\n",
      "       5.73615251e-01, 7.88046282e-01, 1.08263673e+00, 1.48735211e+00,\n",
      "       2.04335972e+00, 2.80721620e+00, 3.85662042e+00, 5.29831691e+00,\n",
      "       7.27895384e+00, 1.00000000e+01])))]), Pipeline(steps=[('standardscaler', StandardScaler()),\n",
      "                ('ridgecv',\n",
      "                 RidgeCV(alphas=array([1.00000000e-03, 1.37382380e-03, 1.88739182e-03, 2.59294380e-03,\n",
      "       3.56224789e-03, 4.89390092e-03, 6.72335754e-03, 9.23670857e-03,\n",
      "       1.26896100e-02, 1.74332882e-02, 2.39502662e-02, 3.29034456e-02,\n",
      "       4.52035366e-02, 6.21016942e-02, 8.53167852e-02, 1.17210230e-01,\n",
      "       1.61026203e-01, 2.21221629e-01, 3.03919538e-01, 4.17531894e-01,\n",
      "       5.73615251e-01, 7.88046282e-01, 1.08263673e+00, 1.48735211e+00,\n",
      "       2.04335972e+00, 2.80721620e+00, 3.85662042e+00, 5.29831691e+00,\n",
      "       7.27895384e+00, 1.00000000e+01])))])], 'test_score': array([0.63949534, 0.60571284, 0.61115815, 0.56191319, 0.60883357])}\n"
     ]
    }
   ],
   "source": [
    "from sklearn.pipeline import make_pipeline\n",
    "from sklearn.model_selection import cross_validate\n",
    "alphas = np.logspace(-3,1,num=30)\n",
    "\n",
    "model = make_pipeline(StandardScaler(), RidgeCV(alphas=alphas))\n",
    "cv_results = cross_validate(model,X_train,y_train,return_estimator=True, n_jobs=2)\n",
    "print(cv_results)"
   ]
  },
  {
   "cell_type": "code",
   "execution_count": 27,
   "id": "108a428e-52e1-4d44-b67a-76637d647073",
   "metadata": {},
   "outputs": [
    {
     "name": "stdout",
     "output_type": "stream",
     "text": [
      "[0.63949534 0.60571284 0.61115815 0.56191319 0.60883357]\n",
      "R2 score:  0.605423 +- 0.024894\n"
     ]
    }
   ],
   "source": [
    "score = cv_results[\"test_score\"]\n",
    "print(score)\n",
    "print(f\"R2 score: {score.mean(): 3f} +- {score.std():3f}\")"
   ]
  },
  {
   "cell_type": "code",
   "execution_count": 28,
   "id": "f60e68cd-f5f0-4c9a-9c31-9ab2216da254",
   "metadata": {},
   "outputs": [
    {
     "name": "stdout",
     "output_type": "stream",
     "text": [
      "Defaulting to user installation because normal site-packages is not writeable\n",
      "Collecting ucimlrepo\n",
      "  Downloading ucimlrepo-0.0.7-py3-none-any.whl.metadata (5.5 kB)\n",
      "Requirement already satisfied: pandas>=1.0.0 in c:\\programdata\\anaconda3\\lib\\site-packages (from ucimlrepo) (2.1.4)\n",
      "Requirement already satisfied: certifi>=2020.12.5 in c:\\programdata\\anaconda3\\lib\\site-packages (from ucimlrepo) (2024.2.2)\n",
      "Requirement already satisfied: numpy<2,>=1.23.2 in c:\\users\\admin\\appdata\\roaming\\python\\python311\\site-packages (from pandas>=1.0.0->ucimlrepo) (1.25.2)\n",
      "Requirement already satisfied: python-dateutil>=2.8.2 in c:\\users\\admin\\appdata\\roaming\\python\\python311\\site-packages (from pandas>=1.0.0->ucimlrepo) (2.8.2)\n",
      "Requirement already satisfied: pytz>=2020.1 in c:\\programdata\\anaconda3\\lib\\site-packages (from pandas>=1.0.0->ucimlrepo) (2023.3.post1)\n",
      "Requirement already satisfied: tzdata>=2022.1 in c:\\programdata\\anaconda3\\lib\\site-packages (from pandas>=1.0.0->ucimlrepo) (2023.3)\n",
      "Requirement already satisfied: six>=1.5 in c:\\users\\admin\\appdata\\roaming\\python\\python311\\site-packages (from python-dateutil>=2.8.2->pandas>=1.0.0->ucimlrepo) (1.16.0)\n",
      "Downloading ucimlrepo-0.0.7-py3-none-any.whl (8.0 kB)\n",
      "Installing collected packages: ucimlrepo\n",
      "Successfully installed ucimlrepo-0.0.7\n"
     ]
    }
   ],
   "source": [
    "!pip install ucimlrepo"
   ]
  },
  {
   "cell_type": "code",
   "execution_count": 29,
   "id": "e3963eaa-4101-4d76-ba6b-3035d4160e07",
   "metadata": {},
   "outputs": [],
   "source": [
    "from ucimlrepo import fetch_ucirepo\n",
    "#fetch datset\n",
    "wine_quality = fetch_ucirepo(id=186)"
   ]
  },
  {
   "cell_type": "code",
   "execution_count": 30,
   "id": "c0136007-a1f6-464c-81b6-6c3703dd2d44",
   "metadata": {},
   "outputs": [
    {
     "name": "stdout",
     "output_type": "stream",
     "text": [
      "      quality\n",
      "0           5\n",
      "1           5\n",
      "2           5\n",
      "3           6\n",
      "4           5\n",
      "...       ...\n",
      "6492        6\n",
      "6493        5\n",
      "6494        6\n",
      "6495        7\n",
      "6496        6\n",
      "\n",
      "[6497 rows x 1 columns]\n"
     ]
    }
   ],
   "source": [
    "#data (as pandas dataframes)\n",
    "X = wine_quality.data.features\n",
    "y = wine_quality.data.targets\n",
    "print(y)\n"
   ]
  },
  {
   "cell_type": "code",
   "execution_count": 33,
   "id": "206f5bae-4b16-4999-8f6f-2dfb9865dd19",
   "metadata": {},
   "outputs": [
    {
     "name": "stdout",
     "output_type": "stream",
     "text": [
      "{'uci_id': 186, 'name': 'Wine Quality', 'repository_url': 'https://archive.ics.uci.edu/dataset/186/wine+quality', 'data_url': 'https://archive.ics.uci.edu/static/public/186/data.csv', 'abstract': 'Two datasets are included, related to red and white vinho verde wine samples, from the north of Portugal. The goal is to model wine quality based on physicochemical tests (see [Cortez et al., 2009], http://www3.dsi.uminho.pt/pcortez/wine/).', 'area': 'Business', 'tasks': ['Classification', 'Regression'], 'characteristics': ['Multivariate'], 'num_instances': 4898, 'num_features': 11, 'feature_types': ['Real'], 'demographics': [], 'target_col': ['quality'], 'index_col': None, 'has_missing_values': 'no', 'missing_values_symbol': None, 'year_of_dataset_creation': 2009, 'last_updated': 'Wed Nov 15 2023', 'dataset_doi': '10.24432/C56S3T', 'creators': ['Paulo Cortez', 'A. Cerdeira', 'F. Almeida', 'T. Matos', 'J. Reis'], 'intro_paper': {'title': 'Modeling wine preferences by data mining from physicochemical properties', 'authors': 'P. Cortez, A. Cerdeira, Fernando Almeida, Telmo Matos, J. Reis', 'published_in': 'Decision Support Systems', 'year': 2009, 'url': 'https://www.semanticscholar.org/paper/Modeling-wine-preferences-by-data-mining-from-Cortez-Cerdeira/bf15a0ccc14ac1deb5cea570c870389c16be019c', 'doi': None}, 'additional_info': {'summary': 'The two datasets are related to red and white variants of the Portuguese \"Vinho Verde\" wine. For more details, consult: http://www.vinhoverde.pt/en/ or the reference [Cortez et al., 2009].  Due to privacy and logistic issues, only physicochemical (inputs) and sensory (the output) variables are available (e.g. there is no data about grape types, wine brand, wine selling price, etc.).\\n\\nThese datasets can be viewed as classification or regression tasks.  The classes are ordered and not balanced (e.g. there are many more normal wines than excellent or poor ones). Outlier detection algorithms could be used to detect the few excellent or poor wines. Also, we are not sure if all input variables are relevant. So it could be interesting to test feature selection methods.\\n', 'purpose': None, 'funded_by': None, 'instances_represent': None, 'recommended_data_splits': None, 'sensitive_data': None, 'preprocessing_description': None, 'variable_info': 'For more information, read [Cortez et al., 2009].\\r\\nInput variables (based on physicochemical tests):\\r\\n   1 - fixed acidity\\r\\n   2 - volatile acidity\\r\\n   3 - citric acid\\r\\n   4 - residual sugar\\r\\n   5 - chlorides\\r\\n   6 - free sulfur dioxide\\r\\n   7 - total sulfur dioxide\\r\\n   8 - density\\r\\n   9 - pH\\r\\n   10 - sulphates\\r\\n   11 - alcohol\\r\\nOutput variable (based on sensory data): \\r\\n   12 - quality (score between 0 and 10)', 'citation': None}}\n",
      "                    name     role         type demographic  \\\n",
      "0          fixed_acidity  Feature   Continuous        None   \n",
      "1       volatile_acidity  Feature   Continuous        None   \n",
      "2            citric_acid  Feature   Continuous        None   \n",
      "3         residual_sugar  Feature   Continuous        None   \n",
      "4              chlorides  Feature   Continuous        None   \n",
      "5    free_sulfur_dioxide  Feature   Continuous        None   \n",
      "6   total_sulfur_dioxide  Feature   Continuous        None   \n",
      "7                density  Feature   Continuous        None   \n",
      "8                     pH  Feature   Continuous        None   \n",
      "9              sulphates  Feature   Continuous        None   \n",
      "10               alcohol  Feature   Continuous        None   \n",
      "11               quality   Target      Integer        None   \n",
      "12                 color    Other  Categorical        None   \n",
      "\n",
      "               description units missing_values  \n",
      "0                     None  None             no  \n",
      "1                     None  None             no  \n",
      "2                     None  None             no  \n",
      "3                     None  None             no  \n",
      "4                     None  None             no  \n",
      "5                     None  None             no  \n",
      "6                     None  None             no  \n",
      "7                     None  None             no  \n",
      "8                     None  None             no  \n",
      "9                     None  None             no  \n",
      "10                    None  None             no  \n",
      "11  score between 0 and 10  None             no  \n",
      "12            red or white  None             no  \n"
     ]
    }
   ],
   "source": [
    "#meta data\n",
    "print(wine_quality.metadata)\n",
    "\n",
    "#variable information\n",
    "print(wine_quality.variables)"
   ]
  }
 ],
 "metadata": {
  "kernelspec": {
   "display_name": "Python 3 (ipykernel)",
   "language": "python",
   "name": "python3"
  },
  "language_info": {
   "codemirror_mode": {
    "name": "ipython",
    "version": 3
   },
   "file_extension": ".py",
   "mimetype": "text/x-python",
   "name": "python",
   "nbconvert_exporter": "python",
   "pygments_lexer": "ipython3",
   "version": "3.11.7"
  }
 },
 "nbformat": 4,
 "nbformat_minor": 5
}
